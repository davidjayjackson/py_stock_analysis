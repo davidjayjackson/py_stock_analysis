{
 "cells": [
  {
   "cell_type": "code",
   "execution_count": 1,
   "id": "94b796b6-b6de-40a9-b4a9-c373b4addc62",
   "metadata": {},
   "outputs": [],
   "source": [
    "import pandas as pd\n",
    "import matplotlib.pyplot as plt\n",
    "import seaborn as sns\n",
    "import duckdb\n",
    "\n",
    "from alpha_vantage.timeseries import TimeSeries\n",
    "# from sqlalchemy import create_engine\n",
    "ts = TimeSeries(key='35RWNNYNVVW23JS1', output_format='pandas')"
   ]
  },
  {
   "cell_type": "code",
   "execution_count": 2,
   "id": "7e63e6fc-ab1c-4c8a-aef8-f3be501b7980",
   "metadata": {},
   "outputs": [],
   "source": [
    "con = duckdb.connect(database='./vangaurd.duckdb', read_only=False)"
   ]
  },
  {
   "cell_type": "code",
   "execution_count": 3,
   "id": "b003da16-f9e6-48d1-aac2-71364ac1c735",
   "metadata": {},
   "outputs": [
    {
     "data": {
      "text/plain": [
       "Timestamp('2025-04-07 00:00:00')"
      ]
     },
     "execution_count": 3,
     "metadata": {},
     "output_type": "execute_result"
    }
   ],
   "source": [
    "ET, meta_data = ts.get_daily(symbol='ET', outputsize='full')\n",
    "# 🔹 Rename columns for clarity\n",
    "ET.columns = [\"Open\", \"High\", \"Low\", \"Close\", \"Volume\"]\n",
    "ET['Symbol'] = \"ET\"\n",
    "# 🔹 Convert index to datetime format\n",
    "ET.index = pd.to_datetime(ET.index)\n",
    "\n",
    "# 🔹 Convert index (date) into a regular column\n",
    "ET.reset_index(inplace=True)\n",
    "\n",
    "# Calculate 100-day moving average for Close price\n",
    "ET[\"MA_100d\"] = ET[\"Close\"].rolling(window=100).mean()\n",
    "\n",
    "# 🔹 Rename the date column\n",
    "ET.rename(columns={\"date\": \"Date\"}, inplace=True)\n",
    "ET['Date'].max()"
   ]
  },
  {
   "cell_type": "code",
   "execution_count": 4,
   "id": "248fdd65-7b97-4798-8cff-4b208025330d",
   "metadata": {},
   "outputs": [],
   "source": [
    "\n",
    "# Calculate the moving average and standard deviation\n",
    "ET['bb_mean'] = ET['Close'].rolling(window=20).mean()  # 20-day SMA\n",
    "ET['bb_std'] = ET['Close'].rolling(window=20).std()   # 20-day standard deviation\n",
    "\n",
    "# Calculate the Bollinger Bands\n",
    "ET['bb_upper'] = ET['bb_mean'] + (ET['bb_std'] * 2)\n",
    "ET['bb_lower'] = ET['bb_mean'] - (ET['bb_std'] * 2)\n",
    "ET['Mean'] = ET['Close'].mean()\n",
    "ET['Median'] = ET['Close'].median()\n"
   ]
  },
  {
   "cell_type": "code",
   "execution_count": 5,
   "id": "8e03e2b3-90db-4136-b748-68ab2f9610e0",
   "metadata": {},
   "outputs": [
    {
     "data": {
      "text/plain": [
       "<duckdb.duckdb.DuckDBPyConnection at 0x1de92d4c330>"
      ]
     },
     "execution_count": 5,
     "metadata": {},
     "output_type": "execute_result"
    }
   ],
   "source": [
    "con.register('temp_df', ET)  # Register the DataFrame as a virtual table\n",
    "con.execute(\"DROP TABLE IF EXISTS ET\")\n",
    "con.execute(\"CREATE TABLE ET AS SELECT * FROM temp_df\")  # Create the table\n",
    "con.unregister('temp_df') #unregister the temp table.\n",
    "\n",
    "# con.close()"
   ]
  },
  {
   "cell_type": "markdown",
   "id": "a7158573-cfc7-4bcf-9009-9968725705b8",
   "metadata": {},
   "source": [
    "# BND\n"
   ]
  },
  {
   "cell_type": "code",
   "execution_count": 6,
   "id": "bfb8e88d-5e69-4377-9464-4a400c031f1a",
   "metadata": {},
   "outputs": [
    {
     "data": {
      "text/plain": [
       "4529"
      ]
     },
     "execution_count": 6,
     "metadata": {},
     "output_type": "execute_result"
    }
   ],
   "source": [
    "BND, meta_data = ts.get_daily(symbol='BND', outputsize='full')\n",
    "# 🔹 Rename columns for clarity\n",
    "BND.columns = [\"Open\", \"High\", \"Low\", \"Close\", \"Volume\"]\n",
    "BND['Symbol'] = \"BND\"\n",
    "# 🔹 Convert index to datetime format\n",
    "BND.index = pd.to_datetime(BND.index)\n",
    "\n",
    "# 🔹 Convert index (date) into a regular column\n",
    "BND.reset_index(inplace=True)\n",
    "\n",
    "# Calculate 100-day moving average for Close price\n",
    "BND[\"MA_100d\"] = BND[\"Close\"].rolling(window=100).mean()\n",
    "\n",
    "# 🔹 Rename the date column\n",
    "BND.rename(columns={\"date\": \"Date\"}, inplace=True)\n",
    "len(BND)"
   ]
  },
  {
   "cell_type": "code",
   "execution_count": 7,
   "id": "63622d0a-c377-4d5f-9617-26042a6e5cef",
   "metadata": {},
   "outputs": [],
   "source": [
    "\n",
    "# Calculate the moving average and standard deviation\n",
    "BND['bb_mean'] =BND['Close'].rolling(window=20).mean()  # 20-day SMA\n",
    "BND['bb_std'] =BND['Close'].rolling(window=20).std()   # 20-day standard deviation\n",
    "\n",
    "# Calculate the Bollinger Bands\n",
    "BND['bb_upper'] = BND['bb_mean'] + (BND['bb_std'] * 2)\n",
    "BND['bb_lower'] = BND['bb_mean'] - (BND['bb_std'] * 2)\n",
    "BND['Mean'] = BND['Close'].mean()\n",
    "BND['Median'] = BND['Close'].median()"
   ]
  },
  {
   "cell_type": "code",
   "execution_count": 8,
   "id": "d11417d7-f336-4cba-a90e-f3f05bc3d3fa",
   "metadata": {},
   "outputs": [
    {
     "data": {
      "text/plain": [
       "<duckdb.duckdb.DuckDBPyConnection at 0x1de92d4c330>"
      ]
     },
     "execution_count": 8,
     "metadata": {},
     "output_type": "execute_result"
    }
   ],
   "source": [
    "con.register('temp_df', BND)  # Register the DataFrame as a virtual table\n",
    "con.execute(\"DROP TABLE IF EXISTS BND\")\n",
    "con.execute(\"CREATE TABLE BND AS SELECT * FROM temp_df\")  # Create the table\n",
    "con.unregister('temp_df') #unregister the temp table.\n",
    "\n",
    "#con.close()"
   ]
  },
  {
   "cell_type": "markdown",
   "id": "c7ce5ac1-5668-4b9c-8b3f-cdd944a240a0",
   "metadata": {},
   "source": [
    "# VTI"
   ]
  },
  {
   "cell_type": "code",
   "execution_count": 9,
   "id": "87c61e02-024f-4b26-8e3f-a2196180c6f0",
   "metadata": {},
   "outputs": [
    {
     "data": {
      "text/plain": [
       "5999"
      ]
     },
     "execution_count": 9,
     "metadata": {},
     "output_type": "execute_result"
    }
   ],
   "source": [
    "VTI, meta_data = ts.get_daily(symbol='VTI', outputsize='full')\n",
    "# 🔹 Rename columns for clarity\n",
    "VTI.columns = [\"Open\", \"High\", \"Low\", \"Close\", \"Volume\"]\n",
    "VTI['Symbol'] = \"VTI\"\n",
    "# 🔹 Convert index to datetime format\n",
    "VTI.index = pd.to_datetime(VTI.index)\n",
    "\n",
    "# 🔹 Convert index (date) into a regular column\n",
    "VTI.reset_index(inplace=True)\n",
    "\n",
    "# Calculate 100-day moving average for Close price\n",
    "VTI[\"MA_100d\"] = VTI[\"Close\"].rolling(window=100).mean()\n",
    "\n",
    "# 🔹 Rename the date column\n",
    "VTI.rename(columns={\"date\": \"Date\"}, inplace=True)\n",
    "len(VTI)"
   ]
  },
  {
   "cell_type": "code",
   "execution_count": 10,
   "id": "1ae4776e-fc92-4d95-a8db-6d4e2860e792",
   "metadata": {},
   "outputs": [],
   "source": [
    "\n",
    "# Calculate the moving average and standard deviation\n",
    "VTI['bb_mean'] = VTI['Close'].rolling(window=20).mean()  # 20-day SMA\n",
    "VTI['bb_std'] = VTI['Close'].rolling(window=20).std()   # 20-day standard deviation\n",
    "\n",
    "# Calculate the Bollinger Bands\n",
    "VTI['bb_upper'] = VTI['bb_mean'] + (VTI['bb_std'] * 2)\n",
    "VTI['bb_lower'] = VTI['bb_mean'] - (VTI['bb_std'] * 2)\n",
    "VTI['Mean'] = VTI['Close'].mean()\n",
    "VTI['Median'] = VTI['Close'].median()"
   ]
  },
  {
   "cell_type": "code",
   "execution_count": 11,
   "id": "8bf5ebf6-361a-4634-b793-8c0d560d61a3",
   "metadata": {},
   "outputs": [],
   "source": [
    "\n",
    "# Calculate the moving average and standard deviation\n",
    "VTI['bb_mean'] = VTI['Close'].rolling(window=20).mean()  # 20-day SMA\n",
    "VTI['bb_std'] = VTI['Close'].rolling(window=20).std()   # 20-day standard deviation\n",
    "\n",
    "# Calculate the Bollinger Bands\n",
    "VTI['bb_upper'] = VTI['bb_mean'] + (VTI['bb_std'] * 2)\n",
    "VTI['bb_lower'] = VTI['bb_mean'] - (VTI['bb_std'] * 2)\n",
    "VTI['Mean'] = VTI['Close'].mean()\n",
    "VTI['Median'] = VTI['Close'].median()"
   ]
  },
  {
   "cell_type": "code",
   "execution_count": 12,
   "id": "6ef16e63-bb40-4d7b-bf01-b92d31d2030f",
   "metadata": {},
   "outputs": [
    {
     "data": {
      "text/plain": [
       "<duckdb.duckdb.DuckDBPyConnection at 0x1de92d4c330>"
      ]
     },
     "execution_count": 12,
     "metadata": {},
     "output_type": "execute_result"
    }
   ],
   "source": [
    "con.register('temp_df', VTI)  # Register the DataFrame as a virtual table\n",
    "con.execute(\"DROP TABLE IF EXISTS VTI\")\n",
    "con.execute(\"CREATE TABLE VTI AS SELECT * FROM temp_df\")  # Create the table\n",
    "con.unregister('temp_df') #unregister the temp table.\n",
    "\n",
    "# con.close()"
   ]
  },
  {
   "cell_type": "markdown",
   "id": "697315ff-0cb7-4e96-8311-e3fbd780db52",
   "metadata": {},
   "source": [
    "# BNDX"
   ]
  },
  {
   "cell_type": "code",
   "execution_count": 13,
   "id": "168ec28e-db3c-462d-be8b-2b9fb8303bf1",
   "metadata": {},
   "outputs": [
    {
     "data": {
      "text/plain": [
       "2980"
      ]
     },
     "execution_count": 13,
     "metadata": {},
     "output_type": "execute_result"
    }
   ],
   "source": [
    "BNDX, meta_data = ts.get_daily(symbol='BNDX', outputsize='full')\n",
    "# 🔹 Rename columns for clarity\n",
    "BNDX.columns = [\"Open\", \"High\", \"Low\", \"Close\", \"Volume\"]\n",
    "BNDX['Symbol'] =\"BNDX\"\n",
    "# 🔹 Convert index to datetime format\n",
    "BNDX.index = pd.to_datetime(BNDX.index)\n",
    "\n",
    "# 🔹 Convert index (date) into a regular column\n",
    "BNDX.reset_index(inplace=True)\n",
    "\n",
    "# Calculate 100-day moving average for Close price\n",
    "BNDX[\"MA_100d\"] = BNDX[\"Close\"].rolling(window=100).mean()\n",
    "\n",
    "# 🔹 Rename the date column\n",
    "BNDX.rename(columns={\"date\": \"Date\"}, inplace=True)\n",
    "len(BNDX)"
   ]
  },
  {
   "cell_type": "code",
   "execution_count": 14,
   "id": "314225ad-e405-408d-b519-93be507fe38d",
   "metadata": {},
   "outputs": [
    {
     "data": {
      "text/plain": [
       "2980"
      ]
     },
     "execution_count": 14,
     "metadata": {},
     "output_type": "execute_result"
    }
   ],
   "source": [
    "\n",
    "# Calculate the moving average and standard deviation\n",
    "BNDX['bb_mean'] = BNDX['Close'].rolling(window=20).mean()  # 20-day SMA\n",
    "BNDX['bb_std'] = BNDX['Close'].rolling(window=20).std()   # 20-day standard deviation\n",
    "\n",
    "# Calculate the Bollinger Bands\n",
    "BNDX['bb_upper'] = BNDX['bb_mean'] + (BNDX['bb_std'] * 2)\n",
    "BNDX['bb_lower'] = BNDX['bb_mean'] - (BNDX['bb_std'] * 2)\n",
    "BNDX['Mean'] = BNDX['Close'].mean()\n",
    "BNDX['Median'] = BNDX['Close'].median()\n",
    "len(BNDX)"
   ]
  },
  {
   "cell_type": "code",
   "execution_count": 15,
   "id": "7dac8dcf-0910-477b-a53f-66c7ff8e1d7f",
   "metadata": {},
   "outputs": [
    {
     "data": {
      "text/plain": [
       "<duckdb.duckdb.DuckDBPyConnection at 0x1de92d4c330>"
      ]
     },
     "execution_count": 15,
     "metadata": {},
     "output_type": "execute_result"
    }
   ],
   "source": [
    "con.register('temp_df', BNDX)  # Register the DataFrame as a virtual table\n",
    "con.execute(\"DROP TABLE IF EXISTS BNDX\")\n",
    "con.execute(\"CREATE TABLE BNDX AS SELECT * FROM temp_df\")  # Create the table\n",
    "con.unregister('temp_df') #unregister the temp table.\n",
    "\n",
    "# con.close()"
   ]
  },
  {
   "cell_type": "markdown",
   "id": "a31f7c49-db40-41d3-99ff-1ca016e08580",
   "metadata": {},
   "source": [
    "# VXUS"
   ]
  },
  {
   "cell_type": "code",
   "execution_count": 16,
   "id": "21f270ab-9f00-4bbe-8eaf-31b4e829020e",
   "metadata": {},
   "outputs": [
    {
     "data": {
      "text/plain": [
       "3569"
      ]
     },
     "execution_count": 16,
     "metadata": {},
     "output_type": "execute_result"
    }
   ],
   "source": [
    "VXUS, meta_data = ts.get_daily(symbol='VXUS', outputsize='full')\n",
    "# 🔹 Rename columns for clarity\n",
    "VXUS.columns = [\"Open\", \"High\", \"Low\", \"Close\", \"Volume\"]\n",
    "VXUS['Symbol']  = \"VXUS\"\n",
    "\n",
    "# 🔹 Convert index to datetime format\n",
    "VXUS.index = pd.to_datetime(VXUS.index)\n",
    "\n",
    "# 🔹 Convert index (date) into a regular column\n",
    "VXUS.reset_index(inplace=True)\n",
    "\n",
    "# Calculate 100-day moving average for Close price\n",
    "VXUS[\"MA_100d\"] = VXUS[\"Close\"].rolling(window=100).mean()\n",
    "\n",
    "# 🔹 Rename the date column\n",
    "VXUS.rename(columns={\"date\": \"Date\"}, inplace=True)\n",
    "len(VXUS)"
   ]
  },
  {
   "cell_type": "code",
   "execution_count": 17,
   "id": "1f5321c7-daf5-4b13-9e89-58e3a215063b",
   "metadata": {},
   "outputs": [
    {
     "data": {
      "text/html": [
       "<div>\n",
       "<style scoped>\n",
       "    .dataframe tbody tr th:only-of-type {\n",
       "        vertical-align: middle;\n",
       "    }\n",
       "\n",
       "    .dataframe tbody tr th {\n",
       "        vertical-align: top;\n",
       "    }\n",
       "\n",
       "    .dataframe thead th {\n",
       "        text-align: right;\n",
       "    }\n",
       "</style>\n",
       "<table border=\"1\" class=\"dataframe\">\n",
       "  <thead>\n",
       "    <tr style=\"text-align: right;\">\n",
       "      <th></th>\n",
       "      <th>Date</th>\n",
       "      <th>Open</th>\n",
       "      <th>High</th>\n",
       "      <th>Low</th>\n",
       "      <th>Close</th>\n",
       "      <th>Volume</th>\n",
       "      <th>Symbol</th>\n",
       "      <th>MA_100d</th>\n",
       "      <th>bb_mean</th>\n",
       "      <th>bb_std</th>\n",
       "      <th>bb_upper</th>\n",
       "      <th>bb_lower</th>\n",
       "      <th>Mean</th>\n",
       "      <th>Median</th>\n",
       "    </tr>\n",
       "  </thead>\n",
       "  <tbody>\n",
       "    <tr>\n",
       "      <th>0</th>\n",
       "      <td>2025-04-07</td>\n",
       "      <td>55.36</td>\n",
       "      <td>57.89</td>\n",
       "      <td>55.1200</td>\n",
       "      <td>55.89</td>\n",
       "      <td>20233206.0</td>\n",
       "      <td>VXUS</td>\n",
       "      <td>NaN</td>\n",
       "      <td>NaN</td>\n",
       "      <td>NaN</td>\n",
       "      <td>NaN</td>\n",
       "      <td>NaN</td>\n",
       "      <td>52.441285</td>\n",
       "      <td>52.02</td>\n",
       "    </tr>\n",
       "    <tr>\n",
       "      <th>1</th>\n",
       "      <td>2025-04-04</td>\n",
       "      <td>58.89</td>\n",
       "      <td>59.06</td>\n",
       "      <td>57.3349</td>\n",
       "      <td>57.45</td>\n",
       "      <td>9165682.0</td>\n",
       "      <td>VXUS</td>\n",
       "      <td>NaN</td>\n",
       "      <td>NaN</td>\n",
       "      <td>NaN</td>\n",
       "      <td>NaN</td>\n",
       "      <td>NaN</td>\n",
       "      <td>52.441285</td>\n",
       "      <td>52.02</td>\n",
       "    </tr>\n",
       "    <tr>\n",
       "      <th>2</th>\n",
       "      <td>2025-04-03</td>\n",
       "      <td>61.60</td>\n",
       "      <td>61.86</td>\n",
       "      <td>61.1000</td>\n",
       "      <td>61.19</td>\n",
       "      <td>5641265.0</td>\n",
       "      <td>VXUS</td>\n",
       "      <td>NaN</td>\n",
       "      <td>NaN</td>\n",
       "      <td>NaN</td>\n",
       "      <td>NaN</td>\n",
       "      <td>NaN</td>\n",
       "      <td>52.441285</td>\n",
       "      <td>52.02</td>\n",
       "    </tr>\n",
       "    <tr>\n",
       "      <th>3</th>\n",
       "      <td>2025-04-02</td>\n",
       "      <td>61.89</td>\n",
       "      <td>62.52</td>\n",
       "      <td>61.8600</td>\n",
       "      <td>62.44</td>\n",
       "      <td>2678076.0</td>\n",
       "      <td>VXUS</td>\n",
       "      <td>NaN</td>\n",
       "      <td>NaN</td>\n",
       "      <td>NaN</td>\n",
       "      <td>NaN</td>\n",
       "      <td>NaN</td>\n",
       "      <td>52.441285</td>\n",
       "      <td>52.02</td>\n",
       "    </tr>\n",
       "    <tr>\n",
       "      <th>4</th>\n",
       "      <td>2025-04-01</td>\n",
       "      <td>62.09</td>\n",
       "      <td>62.46</td>\n",
       "      <td>61.8350</td>\n",
       "      <td>62.28</td>\n",
       "      <td>4379772.0</td>\n",
       "      <td>VXUS</td>\n",
       "      <td>NaN</td>\n",
       "      <td>NaN</td>\n",
       "      <td>NaN</td>\n",
       "      <td>NaN</td>\n",
       "      <td>NaN</td>\n",
       "      <td>52.441285</td>\n",
       "      <td>52.02</td>\n",
       "    </tr>\n",
       "  </tbody>\n",
       "</table>\n",
       "</div>"
      ],
      "text/plain": [
       "        Date   Open   High      Low  Close      Volume Symbol  MA_100d  \\\n",
       "0 2025-04-07  55.36  57.89  55.1200  55.89  20233206.0   VXUS      NaN   \n",
       "1 2025-04-04  58.89  59.06  57.3349  57.45   9165682.0   VXUS      NaN   \n",
       "2 2025-04-03  61.60  61.86  61.1000  61.19   5641265.0   VXUS      NaN   \n",
       "3 2025-04-02  61.89  62.52  61.8600  62.44   2678076.0   VXUS      NaN   \n",
       "4 2025-04-01  62.09  62.46  61.8350  62.28   4379772.0   VXUS      NaN   \n",
       "\n",
       "   bb_mean  bb_std  bb_upper  bb_lower       Mean  Median  \n",
       "0      NaN     NaN       NaN       NaN  52.441285   52.02  \n",
       "1      NaN     NaN       NaN       NaN  52.441285   52.02  \n",
       "2      NaN     NaN       NaN       NaN  52.441285   52.02  \n",
       "3      NaN     NaN       NaN       NaN  52.441285   52.02  \n",
       "4      NaN     NaN       NaN       NaN  52.441285   52.02  "
      ]
     },
     "execution_count": 17,
     "metadata": {},
     "output_type": "execute_result"
    }
   ],
   "source": [
    "\n",
    "# Calculate the moving average and standard deviation\n",
    "VXUS['bb_mean'] = VXUS['Close'].rolling(window=20).mean()  # 20-day SMA\n",
    "VXUS['bb_std'] = VXUS['Close'].rolling(window=20).std()   # 20-day standard deviation\n",
    "\n",
    "# Calculate the Bollinger Bands\n",
    "VXUS['bb_upper'] = VXUS['bb_mean'] + (VXUS['bb_std'] * 2)\n",
    "VXUS['bb_lower'] = VXUS['bb_mean'] - (VXUS['bb_std'] * 2)\n",
    "VXUS['Mean'] = VXUS['Close'].mean()\n",
    "VXUS['Median'] = VXUS['Close'].median()\n",
    "VXUS.head()"
   ]
  },
  {
   "cell_type": "code",
   "execution_count": 18,
   "id": "8a1e9143-dfe1-4054-b270-318102eec65d",
   "metadata": {},
   "outputs": [
    {
     "data": {
      "text/plain": [
       "<duckdb.duckdb.DuckDBPyConnection at 0x1de92d4c330>"
      ]
     },
     "execution_count": 18,
     "metadata": {},
     "output_type": "execute_result"
    }
   ],
   "source": [
    "con.register('temp_df', VXUS)  # Register the DataFrame as a virtual table\n",
    "con.execute(\"DROP TABLE IF EXISTS VXUS\")\n",
    "con.execute(\"CREATE TABLE VXUS AS SELECT * FROM temp_df\")  # Create the table\n",
    "con.unregister('temp_df') #unregister the temp table.\n",
    "\n"
   ]
  },
  {
   "cell_type": "code",
   "execution_count": 20,
   "id": "6297f090-b18b-4d03-a535-0ad92e104622",
   "metadata": {},
   "outputs": [
    {
     "ename": "ConnectionException",
     "evalue": "Connection Error: Connection already closed!",
     "output_type": "error",
     "traceback": [
      "\u001b[1;31m---------------------------------------------------------------------------\u001b[0m",
      "\u001b[1;31mConnectionException\u001b[0m                       Traceback (most recent call last)",
      "Cell \u001b[1;32mIn[20], line 1\u001b[0m\n\u001b[1;32m----> 1\u001b[0m con\u001b[38;5;241m.\u001b[39mexecute(\u001b[38;5;124m\"\u001b[39m\u001b[38;5;124mDROP TABLE IF EXISTS stocks\u001b[39m\u001b[38;5;124m\"\u001b[39m)\n\u001b[0;32m      2\u001b[0m duckdb\u001b[38;5;241m.\u001b[39msql(\u001b[38;5;124m\"\"\"\u001b[39m\n\u001b[0;32m      3\u001b[0m \u001b[38;5;124m    CREATE TABLE stocks AS\u001b[39m\n\u001b[0;32m      4\u001b[0m \u001b[38;5;124mSELECT * FROM BND\u001b[39m\n\u001b[1;32m   (...)\u001b[0m\n\u001b[0;32m     12\u001b[0m \u001b[38;5;124mSELECT * FROM VXUS; \u001b[39m\n\u001b[0;32m     13\u001b[0m \u001b[38;5;124m    \u001b[39m\u001b[38;5;124m\"\"\"\u001b[39m)\n\u001b[0;32m     14\u001b[0m con\u001b[38;5;241m.\u001b[39mclose()\n",
      "\u001b[1;31mConnectionException\u001b[0m: Connection Error: Connection already closed!"
     ]
    }
   ],
   "source": [
    "con.execute(\"DROP TABLE IF EXISTS stocks\")\n",
    "duckdb.sql(\"\"\"\n",
    "    CREATE TABLE stocks AS\n",
    "SELECT * FROM BND\n",
    "UNION\n",
    "SELECT * FROM BNDX\n",
    "UNION\n",
    "SELECT * from ET\n",
    "UNION\n",
    "SELECT * FROM VTI\n",
    "UNION\n",
    "SELECT * FROM VXUS; \n",
    "    \"\"\")\n",
    "con.close()"
   ]
  },
  {
   "cell_type": "code",
   "execution_count": null,
   "id": "5ea01eb3-3def-4bc3-9456-151bf5cba506",
   "metadata": {},
   "outputs": [],
   "source": []
  }
 ],
 "metadata": {
  "kernelspec": {
   "display_name": "Python 3 (ipykernel)",
   "language": "python",
   "name": "python3"
  },
  "language_info": {
   "codemirror_mode": {
    "name": "ipython",
    "version": 3
   },
   "file_extension": ".py",
   "mimetype": "text/x-python",
   "name": "python",
   "nbconvert_exporter": "python",
   "pygments_lexer": "ipython3",
   "version": "3.12.3"
  }
 },
 "nbformat": 4,
 "nbformat_minor": 5
}
